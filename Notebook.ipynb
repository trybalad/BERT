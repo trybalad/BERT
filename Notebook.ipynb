{
 "nbformat": 4,
 "nbformat_minor": 0,
 "metadata": {
  "colab": {
   "name": "Untitled2.ipynb",
   "provenance": [],
   "authorship_tag": "ABX9TyPtc9Nec3oUAdv5ZPaxlSmi",
   "include_colab_link": true
  },
  "kernelspec": {
   "name": "python3",
   "language": "python",
   "display_name": "Python 3"
  },
  "pycharm": {
   "stem_cell": {
    "cell_type": "raw",
    "source": [],
    "metadata": {
     "collapsed": false
    }
   }
  }
 },
 "cells": [
  {
   "cell_type": "markdown",
   "metadata": {
    "id": "view-in-github",
    "colab_type": "text"
   },
   "source": [
    "<a href=\"https://colab.research.google.com/github/trybalad/BERT/blob/master/Notebook.ipynb\" target=\"_parent\"><img src=\"https://colab.research.google.com/assets/colab-badge.svg\" alt=\"Open In Colab\"/></a>"
   ]
  },
  {
   "cell_type": "code",
   "execution_count": 2,
   "outputs": [
    {
     "name": "stdout",
     "text": [
      "Requirement already satisfied: spacy in c:\\users\\damian\\pycharmprojects\\bert\\venv\\lib\\site-packages (2.3.2)\n",
      "Requirement already satisfied: requests<3.0.0,>=2.13.0 in c:\\users\\damian\\pycharmprojects\\bert\\venv\\lib\\site-packages (from spacy) (2.22.0)\n",
      "Requirement already satisfied: preshed<3.1.0,>=3.0.2 in c:\\users\\damian\\pycharmprojects\\bert\\venv\\lib\\site-packages (from spacy) (3.0.2)\n",
      "Requirement already satisfied: srsly<1.1.0,>=1.0.2 in c:\\users\\damian\\pycharmprojects\\bert\\venv\\lib\\site-packages (from spacy) (1.0.2)\n",
      "Requirement already satisfied: tqdm<5.0.0,>=4.38.0 in c:\\users\\damian\\pycharmprojects\\bert\\venv\\lib\\site-packages (from spacy) (4.43.0)\n",
      "Requirement already satisfied: blis<0.5.0,>=0.4.0 in c:\\users\\damian\\pycharmprojects\\bert\\venv\\lib\\site-packages (from spacy) (0.4.1)\n",
      "Requirement already satisfied: cymem<2.1.0,>=2.0.2 in c:\\users\\damian\\pycharmprojects\\bert\\venv\\lib\\site-packages (from spacy) (2.0.3)\n",
      "Requirement already satisfied: catalogue<1.1.0,>=0.0.7 in c:\\users\\damian\\pycharmprojects\\bert\\venv\\lib\\site-packages (from spacy) (1.0.0)\n",
      "Requirement already satisfied: murmurhash<1.1.0,>=0.28.0 in c:\\users\\damian\\pycharmprojects\\bert\\venv\\lib\\site-packages (from spacy) (1.0.2)\n",
      "Requirement already satisfied: wasabi<1.1.0,>=0.4.0 in c:\\users\\damian\\pycharmprojects\\bert\\venv\\lib\\site-packages (from spacy) (0.6.0)\n",
      "Requirement already satisfied: setuptools in c:\\users\\damian\\pycharmprojects\\bert\\venv\\lib\\site-packages (from spacy) (45.1.0)\n",
      "Requirement already satisfied: thinc==7.4.1 in c:\\users\\damian\\pycharmprojects\\bert\\venv\\lib\\site-packages (from spacy) (7.4.1)\n",
      "Requirement already satisfied: plac<1.2.0,>=0.9.6 in c:\\users\\damian\\pycharmprojects\\bert\\venv\\lib\\site-packages (from spacy) (1.1.3)\n",
      "Requirement already satisfied: numpy>=1.15.0 in c:\\users\\damian\\pycharmprojects\\bert\\venv\\lib\\site-packages (from spacy) (1.19.5)\n",
      "Requirement already satisfied: idna<2.9,>=2.5 in c:\\users\\damian\\pycharmprojects\\bert\\venv\\lib\\site-packages (from requests<3.0.0,>=2.13.0->spacy) (2.8)\n",
      "Requirement already satisfied: certifi>=2017.4.17 in c:\\users\\damian\\pycharmprojects\\bert\\venv\\lib\\site-packages (from requests<3.0.0,>=2.13.0->spacy) (2019.11.28)\n",
      "Requirement already satisfied: urllib3!=1.25.0,!=1.25.1,<1.26,>=1.21.1 in c:\\users\\damian\\pycharmprojects\\bert\\venv\\lib\\site-packages (from requests<3.0.0,>=2.13.0->spacy) (1.25.8)\n",
      "Requirement already satisfied: chardet<3.1.0,>=3.0.2 in c:\\users\\damian\\pycharmprojects\\bert\\venv\\lib\\site-packages (from requests<3.0.0,>=2.13.0->spacy) (3.0.4)\n",
      "Requirement already satisfied: importlib-metadata>=0.20; python_version < \"3.8\" in c:\\users\\damian\\pycharmprojects\\bert\\venv\\lib\\site-packages (from catalogue<1.1.0,>=0.0.7->spacy) (1.5.0)\n",
      "Requirement already satisfied: zipp>=0.5 in c:\\users\\damian\\pycharmprojects\\bert\\venv\\lib\\site-packages (from importlib-metadata>=0.20; python_version < \"3.8\"->catalogue<1.1.0,>=0.0.7->spacy) (3.0.0)\n",
      "Requirement already satisfied: pl_core_news_lg==2.3.0 from https://github.com/explosion/spacy-models/releases/download/pl_core_news_lg-2.3.0/pl_core_news_lg-2.3.0.tar.gz#egg=pl_core_news_lg==2.3.0 in c:\\users\\damian\\pycharmprojects\\bert\\venv\\lib\\site-packages (2.3.0)\n",
      "Requirement already satisfied: spacy<2.4.0,>=2.3.0 in c:\\users\\damian\\pycharmprojects\\bert\\venv\\lib\\site-packages (from pl_core_news_lg==2.3.0) (2.3.2)\n",
      "Requirement already satisfied: cymem<2.1.0,>=2.0.2 in c:\\users\\damian\\pycharmprojects\\bert\\venv\\lib\\site-packages (from spacy<2.4.0,>=2.3.0->pl_core_news_lg==2.3.0) (2.0.3)\n",
      "Requirement already satisfied: srsly<1.1.0,>=1.0.2 in c:\\users\\damian\\pycharmprojects\\bert\\venv\\lib\\site-packages (from spacy<2.4.0,>=2.3.0->pl_core_news_lg==2.3.0) (1.0.2)\n",
      "Requirement already satisfied: setuptools in c:\\users\\damian\\pycharmprojects\\bert\\venv\\lib\\site-packages (from spacy<2.4.0,>=2.3.0->pl_core_news_lg==2.3.0) (45.1.0)\n",
      "Requirement already satisfied: requests<3.0.0,>=2.13.0 in c:\\users\\damian\\pycharmprojects\\bert\\venv\\lib\\site-packages (from spacy<2.4.0,>=2.3.0->pl_core_news_lg==2.3.0) (2.22.0)\n",
      "Requirement already satisfied: plac<1.2.0,>=0.9.6 in c:\\users\\damian\\pycharmprojects\\bert\\venv\\lib\\site-packages (from spacy<2.4.0,>=2.3.0->pl_core_news_lg==2.3.0) (1.1.3)\n",
      "Requirement already satisfied: tqdm<5.0.0,>=4.38.0 in c:\\users\\damian\\pycharmprojects\\bert\\venv\\lib\\site-packages (from spacy<2.4.0,>=2.3.0->pl_core_news_lg==2.3.0) (4.43.0)\n",
      "Requirement already satisfied: blis<0.5.0,>=0.4.0 in c:\\users\\damian\\pycharmprojects\\bert\\venv\\lib\\site-packages (from spacy<2.4.0,>=2.3.0->pl_core_news_lg==2.3.0) (0.4.1)\n",
      "Requirement already satisfied: numpy>=1.15.0 in c:\\users\\damian\\pycharmprojects\\bert\\venv\\lib\\site-packages (from spacy<2.4.0,>=2.3.0->pl_core_news_lg==2.3.0) (1.19.5)\n",
      "Requirement already satisfied: murmurhash<1.1.0,>=0.28.0 in c:\\users\\damian\\pycharmprojects\\bert\\venv\\lib\\site-packages (from spacy<2.4.0,>=2.3.0->pl_core_news_lg==2.3.0) (1.0.2)\n",
      "Requirement already satisfied: catalogue<1.1.0,>=0.0.7 in c:\\users\\damian\\pycharmprojects\\bert\\venv\\lib\\site-packages (from spacy<2.4.0,>=2.3.0->pl_core_news_lg==2.3.0) (1.0.0)\n",
      "Requirement already satisfied: preshed<3.1.0,>=3.0.2 in c:\\users\\damian\\pycharmprojects\\bert\\venv\\lib\\site-packages (from spacy<2.4.0,>=2.3.0->pl_core_news_lg==2.3.0) (3.0.2)\n",
      "Requirement already satisfied: wasabi<1.1.0,>=0.4.0 in c:\\users\\damian\\pycharmprojects\\bert\\venv\\lib\\site-packages (from spacy<2.4.0,>=2.3.0->pl_core_news_lg==2.3.0) (0.6.0)\n",
      "Requirement already satisfied: thinc==7.4.1 in c:\\users\\damian\\pycharmprojects\\bert\\venv\\lib\\site-packages (from spacy<2.4.0,>=2.3.0->pl_core_news_lg==2.3.0) (7.4.1)\n",
      "Requirement already satisfied: idna<2.9,>=2.5 in c:\\users\\damian\\pycharmprojects\\bert\\venv\\lib\\site-packages (from requests<3.0.0,>=2.13.0->spacy<2.4.0,>=2.3.0->pl_core_news_lg==2.3.0) (2.8)\n",
      "Requirement already satisfied: certifi>=2017.4.17 in c:\\users\\damian\\pycharmprojects\\bert\\venv\\lib\\site-packages (from requests<3.0.0,>=2.13.0->spacy<2.4.0,>=2.3.0->pl_core_news_lg==2.3.0) (2019.11.28)\n",
      "Requirement already satisfied: urllib3!=1.25.0,!=1.25.1,<1.26,>=1.21.1 in c:\\users\\damian\\pycharmprojects\\bert\\venv\\lib\\site-packages (from requests<3.0.0,>=2.13.0->spacy<2.4.0,>=2.3.0->pl_core_news_lg==2.3.0) (1.25.8)\n",
      "Requirement already satisfied: chardet<3.1.0,>=3.0.2 in c:\\users\\damian\\pycharmprojects\\bert\\venv\\lib\\site-packages (from requests<3.0.0,>=2.13.0->spacy<2.4.0,>=2.3.0->pl_core_news_lg==2.3.0) (3.0.4)\n",
      "Requirement already satisfied: importlib-metadata>=0.20; python_version < \"3.8\" in c:\\users\\damian\\pycharmprojects\\bert\\venv\\lib\\site-packages (from catalogue<1.1.0,>=0.0.7->spacy<2.4.0,>=2.3.0->pl_core_news_lg==2.3.0) (1.5.0)\n",
      "Requirement already satisfied: zipp>=0.5 in c:\\users\\damian\\pycharmprojects\\bert\\venv\\lib\\site-packages (from importlib-metadata>=0.20; python_version < \"3.8\"->catalogue<1.1.0,>=0.0.7->spacy<2.4.0,>=2.3.0->pl_core_news_lg==2.3.0) (3.0.0)\n",
      "[+] Download and installation successful\n",
      "You can now load the model via spacy.load('pl_core_news_lg')\n"
     ],
     "output_type": "stream"
    }
   ],
   "source": [
    "!pip install spacy\n",
    "!python -m spacy download pl_core_news_lg"
   ],
   "metadata": {
    "collapsed": false,
    "pycharm": {
     "name": "#%%\n",
     "is_executing": false
    }
   }
  },
  {
   "cell_type": "code",
   "execution_count": 1,
   "outputs": [
    {
     "name": "stdout",
     "text": [
      "Collecting tensorflow-gpu\n",
      "  Downloading https://files.pythonhosted.org/packages/44/db/eb1e027c13febc1ccb050c9ffb190ced28c823c9643bcb8aca5856879bd1/tensorflow_gpu-2.5.0-cp36-cp36m-win_amd64.whl (422.6MB)\n",
      "Requirement already satisfied: absl-py~=0.10 in c:\\users\\damian\\pycharmprojects\\bert\\venv\\lib\\site-packages (from tensorflow-gpu) (0.12.0)\n",
      "Collecting grpcio~=1.34.0 (from tensorflow-gpu)\n",
      "  Downloading https://files.pythonhosted.org/packages/bb/ea/65d6dc8ca4565cb631687641456cc88deb3f2eea4ffee1f9bdc90ffe9907/grpcio-1.34.1-cp36-cp36m-win_amd64.whl (2.9MB)\n",
      "Requirement already satisfied: six~=1.15.0 in c:\\users\\damian\\pycharmprojects\\bert\\venv\\lib\\site-packages (from tensorflow-gpu) (1.15.0)\n",
      "Requirement already satisfied: keras-preprocessing~=1.1.2 in c:\\users\\damian\\pycharmprojects\\bert\\venv\\lib\\site-packages (from tensorflow-gpu) (1.1.2)\n",
      "Requirement already satisfied: termcolor~=1.1.0 in c:\\users\\damian\\pycharmprojects\\bert\\venv\\lib\\site-packages (from tensorflow-gpu) (1.1.0)\n",
      "Collecting keras-nightly~=2.5.0.dev (from tensorflow-gpu)\n",
      "  Using cached https://files.pythonhosted.org/packages/aa/e7/53bc896aa4e11a87aac10a625c676b3a3d57d1c8d9929e4809d31fa0b7d5/keras_nightly-2.5.0.dev2021032900-py2.py3-none-any.whl\n",
      "Requirement already satisfied: numpy~=1.19.2 in c:\\users\\damian\\pycharmprojects\\bert\\venv\\lib\\site-packages (from tensorflow-gpu) (1.19.5)\n",
      "Requirement already satisfied: wheel~=0.35 in c:\\users\\damian\\pycharmprojects\\bert\\venv\\lib\\site-packages (from tensorflow-gpu) (0.36.2)\n",
      "Requirement already satisfied: opt-einsum~=3.3.0 in c:\\users\\damian\\pycharmprojects\\bert\\venv\\lib\\site-packages (from tensorflow-gpu) (3.3.0)\n",
      "Collecting gast==0.4.0 (from tensorflow-gpu)\n",
      "  Using cached https://files.pythonhosted.org/packages/b6/48/583c032b79ae5b3daa02225a675aeb673e58d2cb698e78510feceb11958c/gast-0.4.0-py3-none-any.whl\n",
      "Requirement already satisfied: wrapt~=1.12.1 in c:\\users\\damian\\pycharmprojects\\bert\\venv\\lib\\site-packages (from tensorflow-gpu) (1.12.1)\n",
      "Collecting h5py~=3.1.0 (from tensorflow-gpu)\n",
      "  Using cached https://files.pythonhosted.org/packages/35/39/ceabe8fa912cb27ec9a0064fe01c1fde2f8b43e9f7e506207db0a0dcea0a/h5py-3.1.0-cp36-cp36m-win_amd64.whl\n",
      "Collecting tensorflow-estimator<2.6.0,>=2.5.0rc0 (from tensorflow-gpu)\n",
      "  Using cached https://files.pythonhosted.org/packages/ec/78/b27f73e923becc6e79e18fe112cf75e3200d1ee35b0dba8fa46181bce56c/tensorflow_estimator-2.5.0-py2.py3-none-any.whl\n",
      "Requirement already satisfied: astunparse~=1.6.3 in c:\\users\\damian\\pycharmprojects\\bert\\venv\\lib\\site-packages (from tensorflow-gpu) (1.6.3)\n",
      "Requirement already satisfied: protobuf>=3.9.2 in c:\\users\\damian\\pycharmprojects\\bert\\venv\\lib\\site-packages (from tensorflow-gpu) (3.17.3)\n",
      "Requirement already satisfied: typing-extensions~=3.7.4 in c:\\users\\damian\\pycharmprojects\\bert\\venv\\lib\\site-packages (from tensorflow-gpu) (3.7.4.3)\n",
      "Requirement already satisfied: tensorboard~=2.5 in c:\\users\\damian\\pycharmprojects\\bert\\venv\\lib\\site-packages (from tensorflow-gpu) (2.5.0)\n",
      "Requirement already satisfied: flatbuffers~=1.12.0 in c:\\users\\damian\\pycharmprojects\\bert\\venv\\lib\\site-packages (from tensorflow-gpu) (1.12)\n",
      "Requirement already satisfied: google-pasta~=0.2 in c:\\users\\damian\\pycharmprojects\\bert\\venv\\lib\\site-packages (from tensorflow-gpu) (0.2.0)\n",
      "Collecting cached-property; python_version < \"3.8\" (from h5py~=3.1.0->tensorflow-gpu)\n",
      "  Using cached https://files.pythonhosted.org/packages/48/19/f2090f7dad41e225c7f2326e4cfe6fff49e57dedb5b53636c9551f86b069/cached_property-1.5.2-py2.py3-none-any.whl\n",
      "Requirement already satisfied: google-auth<2,>=1.6.3 in c:\\users\\damian\\pycharmprojects\\bert\\venv\\lib\\site-packages (from tensorboard~=2.5->tensorflow-gpu) (1.11.0)\n",
      "Requirement already satisfied: google-auth-oauthlib<0.5,>=0.4.1 in c:\\users\\damian\\pycharmprojects\\bert\\venv\\lib\\site-packages (from tensorboard~=2.5->tensorflow-gpu) (0.4.1)\n",
      "Requirement already satisfied: markdown>=2.6.8 in c:\\users\\damian\\pycharmprojects\\bert\\venv\\lib\\site-packages (from tensorboard~=2.5->tensorflow-gpu) (3.1.1)\n",
      "Requirement already satisfied: tensorboard-data-server<0.7.0,>=0.6.0 in c:\\users\\damian\\pycharmprojects\\bert\\venv\\lib\\site-packages (from tensorboard~=2.5->tensorflow-gpu) (0.6.0)\n",
      "Requirement already satisfied: requests<3,>=2.21.0 in c:\\users\\damian\\pycharmprojects\\bert\\venv\\lib\\site-packages (from tensorboard~=2.5->tensorflow-gpu) (2.22.0)\n",
      "Requirement already satisfied: tensorboard-plugin-wit>=1.6.0 in c:\\users\\damian\\pycharmprojects\\bert\\venv\\lib\\site-packages (from tensorboard~=2.5->tensorflow-gpu) (1.8.0)\n",
      "Requirement already satisfied: werkzeug>=0.11.15 in c:\\users\\damian\\pycharmprojects\\bert\\venv\\lib\\site-packages (from tensorboard~=2.5->tensorflow-gpu) (0.16.1)\n",
      "Requirement already satisfied: setuptools>=41.0.0 in c:\\users\\damian\\pycharmprojects\\bert\\venv\\lib\\site-packages (from tensorboard~=2.5->tensorflow-gpu) (45.1.0)\n",
      "Requirement already satisfied: rsa<4.1,>=3.1.4 in c:\\users\\damian\\pycharmprojects\\bert\\venv\\lib\\site-packages (from google-auth<2,>=1.6.3->tensorboard~=2.5->tensorflow-gpu) (4.0)\n",
      "Requirement already satisfied: pyasn1-modules>=0.2.1 in c:\\users\\damian\\pycharmprojects\\bert\\venv\\lib\\site-packages (from google-auth<2,>=1.6.3->tensorboard~=2.5->tensorflow-gpu) (0.2.8)\n",
      "Requirement already satisfied: cachetools<5.0,>=2.0.0 in c:\\users\\damian\\pycharmprojects\\bert\\venv\\lib\\site-packages (from google-auth<2,>=1.6.3->tensorboard~=2.5->tensorflow-gpu) (4.0.0)\n",
      "Requirement already satisfied: requests-oauthlib>=0.7.0 in c:\\users\\damian\\pycharmprojects\\bert\\venv\\lib\\site-packages (from google-auth-oauthlib<0.5,>=0.4.1->tensorboard~=2.5->tensorflow-gpu) (1.3.0)\n",
      "Requirement already satisfied: urllib3!=1.25.0,!=1.25.1,<1.26,>=1.21.1 in c:\\users\\damian\\pycharmprojects\\bert\\venv\\lib\\site-packages (from requests<3,>=2.21.0->tensorboard~=2.5->tensorflow-gpu) (1.25.8)\n",
      "Requirement already satisfied: idna<2.9,>=2.5 in c:\\users\\damian\\pycharmprojects\\bert\\venv\\lib\\site-packages (from requests<3,>=2.21.0->tensorboard~=2.5->tensorflow-gpu) (2.8)\n",
      "Requirement already satisfied: chardet<3.1.0,>=3.0.2 in c:\\users\\damian\\pycharmprojects\\bert\\venv\\lib\\site-packages (from requests<3,>=2.21.0->tensorboard~=2.5->tensorflow-gpu) (3.0.4)\n",
      "Requirement already satisfied: certifi>=2017.4.17 in c:\\users\\damian\\pycharmprojects\\bert\\venv\\lib\\site-packages (from requests<3,>=2.21.0->tensorboard~=2.5->tensorflow-gpu) (2019.11.28)\n",
      "Requirement already satisfied: pyasn1>=0.1.3 in c:\\users\\damian\\pycharmprojects\\bert\\venv\\lib\\site-packages (from rsa<4.1,>=3.1.4->google-auth<2,>=1.6.3->tensorboard~=2.5->tensorflow-gpu) (0.4.8)\n",
      "Requirement already satisfied: oauthlib>=3.0.0 in c:\\users\\damian\\pycharmprojects\\bert\\venv\\lib\\site-packages (from requests-oauthlib>=0.7.0->google-auth-oauthlib<0.5,>=0.4.1->tensorboard~=2.5->tensorflow-gpu) (3.1.0)\n",
      "Installing collected packages: grpcio, keras-nightly, gast, cached-property, h5py, tensorflow-estimator, tensorflow-gpu\n",
      "  Found existing installation: grpcio 1.32.0\n",
      "    Uninstalling grpcio-1.32.0:\n",
      "      Successfully uninstalled grpcio-1.32.0\n",
      "  Found existing installation: gast 0.3.3\n",
      "    Uninstalling gast-0.3.3:\n",
      "      Successfully uninstalled gast-0.3.3\n",
      "  Found existing installation: h5py 2.10.0\n",
      "    Uninstalling h5py-2.10.0:\n",
      "      Successfully uninstalled h5py-2.10.0\n"
     ],
     "output_type": "stream"
    },
    {
     "name": "stderr",
     "text": [
      "tensorflow 2.4.1 has requirement gast==0.3.3, but you'll have gast 0.4.0 which is incompatible.\n",
      "tensorflow 2.4.1 has requirement grpcio~=1.32.0, but you'll have grpcio 1.34.1 which is incompatible.\n",
      "tensorflow 2.4.1 has requirement h5py~=2.10.0, but you'll have h5py 3.1.0 which is incompatible.\n",
      "tensorflow 2.4.1 has requirement tensorflow-estimator<2.5.0,>=2.4.0, but you'll have tensorflow-estimator 2.5.0 which is incompatible.\n",
      "tensorflow-directml 1.15.4.dev201216 has requirement gast==0.2.2, but you'll have gast 0.4.0 which is incompatible.\n",
      "tensorflow-directml 1.15.4.dev201216 has requirement numpy<1.19.0,>=1.16.0, but you'll have numpy 1.19.5 which is incompatible.\n",
      "tensorflow-directml 1.15.4.dev201216 has requirement tensorboard<1.16.0,>=1.15.0, but you'll have tensorboard 2.5.0 which is incompatible.\n",
      "tensorflow-directml 1.15.4.dev201216 has requirement tensorflow-estimator==1.15.1, but you'll have tensorflow-estimator 2.5.0 which is incompatible.\n",
      "Could not install packages due to an EnvironmentError: [WinError 5] Odmowa dostępu: 'c:\\\\users\\\\damian\\\\pycharmprojects\\\\bert\\\\venv\\\\lib\\\\site-packages\\\\~5py\\\\defs.cp36-win_amd64.pyd'\n",
      "Consider using the `--user` option or check the permissions.\n",
      "\n"
     ],
     "output_type": "stream"
    }
   ],
   "source": [
    "#Jeśli szkolimy z gpu\n",
    "!pip install tensorflow-gpu"
   ],
   "metadata": {
    "collapsed": false,
    "pycharm": {
     "name": "#%%\n",
     "is_executing": false
    }
   }
  },
  {
   "cell_type": "code",
   "execution_count": null,
   "outputs": [],
   "source": [
    "#Jeśli wykorzystujemy cpu\n",
    "!pip install tensorflow"
   ],
   "metadata": {
    "collapsed": false,
    "pycharm": {
     "name": "#%%\n"
    }
   }
  },
  {
   "cell_type": "code",
   "metadata": {
    "id": "-cfaHvvMojqQ",
    "colab_type": "code",
    "colab": {},
    "pycharm": {
     "is_executing": false
    }
   },
   "source": [
    "from keras_bert.data_generator import DataGenerator\n",
    "from keras_bert.model import create_model\n",
    "from keras_bert.tokenizer import Tokenizer\n",
    "from keras_bert.training import train_model"
   ],
   "execution_count": 1,
   "outputs": []
  },
  {
   "cell_type": "code",
   "execution_count": 2,
   "outputs": [
    {
     "name": "stdout",
     "text": [
      "Vocab of size: 38999 loaded.\n"
     ],
     "output_type": "stream"
    }
   ],
   "source": [
    "#Reading vocab.\n",
    "tokenizer = Tokenizer()\n",
    "tokenizer.read_vocab('./data/counted_vocab.txt')\n",
    "tokenizer.change_to_reversible()\n",
    "print(\"Vocab of size:\", tokenizer.vocab_size, \"loaded.\")"
   ],
   "metadata": {
    "collapsed": false,
    "pycharm": {
     "name": "#%%\n",
     "is_executing": false
    }
   }
  },
  {
   "cell_type": "code",
   "execution_count": null,
   "outputs": [],
   "source": [
    "max_len = 32\n",
    "embedding_dim = 512\n",
    "ff_dim = 512\n",
    "heads = 4\n",
    "encoder_num = 4\n",
    "\n",
    "checkpoint_file_path = \"./data/checkpoint_notebook.ckpt\"\n",
    "load_checkpoint = False"
   ],
   "metadata": {
    "collapsed": false,
    "pycharm": {
     "name": "#%%\n"
    }
   }
  },
  {
   "cell_type": "code",
   "execution_count": null,
   "outputs": [],
   "source": [
    "#creating data generator\n",
    "data_generator = DataGenerator(\"./data/corpus_clean.txt\", max_len, tokenizer, batch_size=64, create_nsr_output=True)\n",
    "print(\"Data generator prepared.\")"
   ],
   "metadata": {
    "collapsed": false,
    "pycharm": {
     "name": "#%%\n"
    }
   }
  },
  {
   "cell_type": "code",
   "execution_count": null,
   "outputs": [],
   "source": [
    "#preparing model\n",
    "sequence_encoder = create_model(tokenizer.vocab_size, max_len, embedding_dim, encoder_num, heads, encoder_num)\n",
    "print(\"Model created.\")"
   ],
   "metadata": {
    "collapsed": false,
    "pycharm": {
     "name": "#%%\n"
    }
   }
  },
  {
   "cell_type": "code",
   "execution_count": null,
   "outputs": [],
   "source": [
    "# Start training.\n",
    "train = train_model(sequence_encoder, max_len, tokenizer, data_generator, epochs=100,\n",
    "                    checkpoint_file_path=checkpoint_file_path, load_checkpoint=load_checkpoint)"
   ],
   "metadata": {
    "collapsed": false,
    "pycharm": {
     "name": "#%%\n"
    }
   }
  },
  {
   "cell_type": "code",
   "execution_count": null,
   "outputs": [],
   "source": [
    "from keras_bert.prepare_data import create_tokens, create_masks, create_ids, create_segments, translate_ids, \\\n",
    "    create_pretrain_data\n",
    "import numpy as np"
   ],
   "metadata": {
    "collapsed": false,
    "pycharm": {
     "name": "#%%\n"
    }
   }
  },
  {
   "cell_type": "code",
   "execution_count": null,
   "outputs": [],
   "source": [
    "message = \"Pojęcie w programowaniu obiektowym najczyściej utożsamiane z klasą. Jest modelem, który w rzeczywistości nie reprezentuje żadnego istniejącego obiektu, a jedynie na podstawie którego definiowane są inne obiekty.\"\n",
    "tokens = create_tokens([message], tokenizer, max_len)\n",
    "mask_t = create_pretrain_data(tokens, tokenizer)\n",
    "ids = create_ids(mask_t, max_len, tokenizer)\n",
    "mask = create_masks(mask_t, max_len)\n",
    "segments = create_segments(mask_t, max_len)\n",
    "\n",
    "result = model.predict(x = [np.array(ids), np.array(segments), np.array(mask)])\n",
    "print(tokens)\n",
    "print(mask_t)\n",
    "print(ids)\n",
    "print(translate_ids(result, tokenizer))"
   ],
   "metadata": {
    "collapsed": false,
    "pycharm": {
     "name": "#%%\n"
    }
   }
  }
 ]
}